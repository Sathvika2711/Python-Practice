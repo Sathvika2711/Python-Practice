{
 "cells": [
  {
   "cell_type": "code",
   "execution_count": 1,
   "id": "31d6bbcd-99c1-4a7f-802c-7eb1088b1672",
   "metadata": {},
   "outputs": [
    {
     "name": "stdout",
     "output_type": "stream",
     "text": [
      "Hello World\n"
     ]
    }
   ],
   "source": [
    "print(\"Hello World\")"
   ]
  },
  {
   "cell_type": "markdown",
   "id": "8b1c6499-f629-464a-9f17-cbbf42983ab5",
   "metadata": {},
   "source": [
    "### Drawing a shape"
   ]
  },
  {
   "cell_type": "code",
   "execution_count": 8,
   "id": "0b4c056b-d267-4fbd-a89f-7aaf2d374155",
   "metadata": {},
   "outputs": [
    {
     "name": "stdout",
     "output_type": "stream",
     "text": [
      "   /|\n",
      "  / |\n",
      " /  |\n",
      "/___|\n"
     ]
    }
   ],
   "source": [
    "print(\"   /|\")\n",
    "print(\"  / |\")\n",
    "print(\" /  |\")\n",
    "print(\"/___|\")"
   ]
  },
  {
   "cell_type": "markdown",
   "id": "19e52bda-b6f3-4094-9500-f729a70f5e3e",
   "metadata": {},
   "source": [
    "### Variables and Data types"
   ]
  },
  {
   "cell_type": "code",
   "execution_count": 11,
   "id": "9293edb2-2fcb-4044-b080-d3125fd95d85",
   "metadata": {},
   "outputs": [
    {
     "name": "stdout",
     "output_type": "stream",
     "text": [
      "There once was a man named Tom, \n",
      "he was 50 years old. \n",
      "He really liked the name Mike, \n",
      "but didn't like being 50.\n"
     ]
    }
   ],
   "source": [
    "character_name = \"Tom\"##string(in double quotes)\n",
    "character_age = \"50\"#numbers int and decimal 50.5638567 \n",
    "is_male = False # boolean(True or False)\n",
    "print(\"There once was a man named \" + character_name + \", \")\n",
    "print(\"he was \" + character_age + \" years old. \")\n",
    "\n",
    "character_name = \"Mike\" \n",
    "print(\"He really liked the name \" + character_name + \", \" )\n",
    "print(\"but didn't like being \" + character_age + \".\")\n"
   ]
  },
  {
   "cell_type": "markdown",
   "id": "75fa70f7-2d74-4041-87f7-a87aa13b132c",
   "metadata": {},
   "source": [
    "### Working with Strings"
   ]
  },
  {
   "cell_type": "code",
   "execution_count": 14,
   "id": "263e6c72-6f0d-4951-aca4-515c8bf7b99a",
   "metadata": {},
   "outputs": [
    {
     "name": "stdout",
     "output_type": "stream",
     "text": [
      "Giraffe Academy\n",
      "Giraffe\n",
      "Academy\n",
      "Giraffe\"Academy\n",
      "Giraffe\\Academy\n",
      "Giraffe Academy\n",
      "Giraffe Academy is cool\n",
      "giraffe academy\n",
      "GIRAFFE ACADEMY\n",
      "False\n",
      "True\n",
      "15\n",
      "G\n",
      " \n",
      "c\n",
      "0\n",
      "3\n",
      "8\n",
      "Elephant Academy\n"
     ]
    },
    {
     "name": "stderr",
     "output_type": "stream",
     "text": [
      "<>:4: SyntaxWarning: invalid escape sequence '\\A'\n",
      "<>:4: SyntaxWarning: invalid escape sequence '\\A'\n",
      "C:\\Users\\ramya\\AppData\\Local\\Temp\\ipykernel_1944\\622566026.py:4: SyntaxWarning: invalid escape sequence '\\A'\n",
      "  print(\"Giraffe\\Academy\")\n"
     ]
    }
   ],
   "source": [
    "print(\"Giraffe Academy\")\n",
    "print(\"Giraffe\\nAcademy\")\n",
    "print(\"Giraffe\\\"Academy\")\n",
    "print(\"Giraffe\\Academy\")\n",
    "\n",
    "## creating a string Variable\n",
    "phrase = \"Giraffe Academy\"\n",
    "print(phrase)\n",
    "\n",
    "##Concatination (taking a string and appending other string onto it)\n",
    "phrase = \"Giraffe Academy\"\n",
    "print(phrase + \" is cool\")\n",
    "## in order to do all that stuff we can also use special things called functions. \n",
    "# And a function is basiccaly just a little block of code that we can run.\n",
    "# And it will perrform a specific operation for us. So we can use functions to modify our strings.\n",
    "# and we can also use functions to get information about our strings. examples below\n",
    "phrase = \"Giraffe Academy\"\n",
    "print(phrase.lower())\n",
    "\n",
    "phrase = \"Giraffe Academy\"\n",
    "print(phrase.upper())\n",
    "\n",
    "phrase = \"Giraffe Academy\"\n",
    "print(phrase.isupper()) \n",
    "\n",
    "## we can use these functions in combination with each other.\n",
    "phrase = \"Giraffe Academy\"\n",
    "print(phrase.upper().isupper())\n",
    "\n",
    "##we can als figure out the length of the string aswell\n",
    "phrase = \"Giraffe Academy\"\n",
    "print(len(phrase))\n",
    "\n",
    "##getting Individual Characters of the string\n",
    "phrase = \"Giraffe Academy\"\n",
    "print(phrase[0]) #String index start with 0\n",
    "\n",
    "phrase = \"Giraffe Academy\"\n",
    "print(phrase[7])# empty space\n",
    "\n",
    "phrase = \"Giraffe Academy\"\n",
    "print(phrase[9])\n",
    "\n",
    "##Another Awesome function that we can use is called index function.\n",
    "# Basicaly it'll tell us where a specific character or string is located inside our string.\n",
    "phrase = \"Giraffe Academy\"\n",
    "print(phrase.index(\"G\"))  \n",
    "\n",
    "phrase = \"Giraffe Academy\"\n",
    "print(phrase.index(\"a\")) \n",
    "\n",
    "phrase = \"Giraffe Academy\"\n",
    "print(phrase.index(\"Acad\"))\n",
    "## it shows error if we don't put a parameter which is inside our string.\n",
    "#for eg: try with letter z.\n",
    "\n",
    "\n",
    "#Another function \"replace\"(here we can give 2 parameters)\n",
    "phrase = \"Giraffe Academy\"\n",
    "print(phrase.replace(\"Giraffe\", \"Elephant\"))\n"
   ]
  },
  {
   "cell_type": "markdown",
   "id": "c4b62ccb-e642-46a6-bd1d-ed9ec1c0eb8a",
   "metadata": {},
   "source": [
    "### Working with Numbers"
   ]
  },
  {
   "cell_type": "code",
   "execution_count": null,
   "id": "36500775-5954-4838-8fac-f3f382860f68",
   "metadata": {},
   "outputs": [],
   "source": [
    "print(2)\n",
    "print(2.0987)\n",
    "print(-2.0987)\n",
    "print(3+4)\n",
    "print(3+4.5)\n",
    "print(3/4.5)\n",
    "print(-2+9)\n",
    "print(3*4.5)\n",
    "print(3.2*5.8)\n",
    "print(3*4+5)\n",
    "print(3*(4+5))\n",
    "\n",
    "#modulus operator\n",
    "print(10%3)## give us the remainder\n",
    "\n",
    "## we can store these numbers in the variables as well\n",
    "my_num = 5\n",
    "print(my_num)\n",
    "\n",
    "#converting the number into the string\n",
    "my_num = 5\n",
    "print(str(my_num) + \"my favorite number\")\n",
    "\n",
    "#if i write above couple of lines of code like following we end up getting an error cause my num is integer and the rest of the print statement is string.\n",
    "# my_num = 5\n",
    "# print(my_num + \"my favorite number\")\n",
    "\n",
    "#more mathematical operations:\n",
    "my_num = - 5\n",
    "print(abs(my_num))\n",
    "\n",
    "my_num = 5# this pow function allows us to pass 2 pieces of information(so the 1st one is gonna be the number and the second one is gonna be the power) \n",
    "print(pow(3, 2))\n",
    "\n",
    "print(pow(5, 2))\n",
    "\n",
    "print(max(5,18))#prints highest number\n",
    "print(min(28, 48))#prints lowest number\n",
    "\n",
    "print(round(3.2))#this function allows us to round a number\n",
    "\n",
    "print(round(3.7))\n",
    "\n",
    "#in the below statement math is called the module\n",
    "from math import*#above are few math functions but there are bunch more math functions so to access them we use this.\n",
    "print(floor(3.7)) #chop off the value after decimal\n",
    "\n",
    "print(ceil(3.7))#we always get the next integer no matter what is there after decimal may be below 5 or above 5 doesn't matter always next integer in this case we get 4\n",
    "\n",
    "print(sqrt(36))"
   ]
  },
  {
   "cell_type": "markdown",
   "id": "89827042-2d74-456c-a964-79214aeb34f3",
   "metadata": {},
   "source": [
    "### Getting Input From Users"
   ]
  },
  {
   "cell_type": "code",
   "execution_count": 22,
   "id": "02a633fd-b885-44d2-a04b-ef13645c79ef",
   "metadata": {},
   "outputs": [
    {
     "name": "stdin",
     "output_type": "stream",
     "text": [
      "Enter ur name:  Sathvika\n"
     ]
    },
    {
     "name": "stdout",
     "output_type": "stream",
     "text": [
      "Hello Sathvika!\n"
     ]
    }
   ],
   "source": [
    "name = input(\"Enter ur name: \")\n",
    "print(\"Hello \" + name + \"!\")"
   ]
  },
  {
   "cell_type": "markdown",
   "id": "fb212891-2668-4a0c-826e-9e052aaf1ff7",
   "metadata": {},
   "source": [
    "name = input(\"Enter ur name: \")\n",
    "age = input(\"Enter ur age: \")\n",
    "print(\"Hello \" + name + \"! You are \" + age)"
   ]
  },
  {
   "cell_type": "markdown",
   "id": "e9c3bde6-0fd3-4fd4-a159-a565c9ae2093",
   "metadata": {},
   "source": [
    " ### Building a Basic Calculator"
   ]
  },
  {
   "cell_type": "code",
   "execution_count": 27,
   "id": "672434cd-dbef-4ec6-a368-040302159da0",
   "metadata": {},
   "outputs": [
    {
     "name": "stdin",
     "output_type": "stream",
     "text": [
      "Enter a number:  2\n",
      "Enter another number:  3.8\n"
     ]
    },
    {
     "name": "stdout",
     "output_type": "stream",
     "text": [
      "5.8\n"
     ]
    }
   ],
   "source": [
    "num1 = input(\"Enter a number: \")\n",
    "num2 = input(\"Enter another number: \")\n",
    "result = float(num1) + float(num2)#we can use int and float both but better to use float we can add decimal numbers as well other if we int we can only andd int if we try to add decimal numbers by putting int data type we end up getting error\n",
    "print(result)"
   ]
  },
  {
   "cell_type": "markdown",
   "id": "6831fa33-e3df-4cc1-affa-28c1bd41e9c5",
   "metadata": {},
   "source": [
    "### Mad Libs Game"
   ]
  },
  {
   "cell_type": "code",
   "execution_count": 30,
   "id": "58244f4f-46a5-403d-8bd3-f0ced24dbf00",
   "metadata": {},
   "outputs": [
    {
     "name": "stdout",
     "output_type": "stream",
     "text": [
      "Roses are red\n",
      "Violets are blue\n",
      "I love you\n"
     ]
    }
   ],
   "source": [
    "print (\"Roses are red\")\n",
    "print(\"Violets are blue\")\n",
    "print(\"I love you\")"
   ]
  },
  {
   "cell_type": "code",
   "execution_count": 32,
   "id": "8f94442b-7e4e-4ba3-8626-e520a3017317",
   "metadata": {},
   "outputs": [
    {
     "name": "stdin",
     "output_type": "stream",
     "text": [
      "Enter a colour:  red\n",
      "Enter a Plural Noun:  Birds\n",
      "Enter a celebrity:  Mahesh Babu\n"
     ]
    },
    {
     "name": "stdout",
     "output_type": "stream",
     "text": [
      "Roses are red\n",
      "Birds are blue\n",
      "I love Mahesh Babu\n"
     ]
    }
   ],
   "source": [
    "colour = input(\"Enter a colour: \")\n",
    "plural_noun = input(\"Enter a Plural Noun: \")\n",
    "celebrity = input(\"Enter a celebrity: \")\n",
    "print (\"Roses are \" + colour)\n",
    "print(plural_noun + \" are blue\")\n",
    "print(\"I love \" + celebrity)"
   ]
  },
  {
   "cell_type": "markdown",
   "id": "c669df33-a378-44aa-89a1-0bb7b39cd691",
   "metadata": {},
   "source": [
    "### Lists"
   ]
  },
  {
   "cell_type": "code",
   "execution_count": 35,
   "id": "b4e9db14-f588-413a-aa43-0ae6324047df",
   "metadata": {},
   "outputs": [
    {
     "name": "stdout",
     "output_type": "stream",
     "text": [
      "['Kevin', 'Karen', 'Jim']\n"
     ]
    }
   ],
   "source": [
    "friends = [\"Kevin\", \"Karen\", \"Jim\"] #ususally we store only 1 value in a variable but here in Lists we can store multiple values.\n",
    "print(friends)"
   ]
  },
  {
   "cell_type": "code",
   "execution_count": 37,
   "id": "70c71cfc-9588-4ad0-b662-78787b990f1e",
   "metadata": {},
   "outputs": [
    {
     "name": "stdout",
     "output_type": "stream",
     "text": [
      "Kevin\n"
     ]
    }
   ],
   "source": [
    "friends = [\"Kevin\", \"Karen\", \"Jim\"]\n",
    "print(friends[0])"
   ]
  },
  {
   "cell_type": "code",
   "execution_count": 39,
   "id": "68ee1872-ce62-4f80-a637-eb523e65b2a1",
   "metadata": {},
   "outputs": [
    {
     "name": "stdout",
     "output_type": "stream",
     "text": [
      "Jim\n"
     ]
    }
   ],
   "source": [
    "friends = [\"Kevin\", \"Karen\", \"Jim\"]\n",
    "print(friends[-1])"
   ]
  },
  {
   "cell_type": "code",
   "execution_count": 41,
   "id": "659015a0-470c-4d5f-b4af-b29692898f43",
   "metadata": {},
   "outputs": [
    {
     "name": "stdout",
     "output_type": "stream",
     "text": [
      "Karen\n"
     ]
    }
   ],
   "source": [
    "friends = [\"Kevin\", \"Karen\", \"Jim\"]\n",
    "print(friends[-2])"
   ]
  },
  {
   "cell_type": "code",
   "execution_count": 43,
   "id": "66766a2c-1590-495c-86aa-240974f3537e",
   "metadata": {},
   "outputs": [
    {
     "name": "stdout",
     "output_type": "stream",
     "text": [
      "['Karen', 'Jim']\n"
     ]
    }
   ],
   "source": [
    "friends = [\"Kevin\", \"Karen\", \"Jim\"]\n",
    "print(friends[1:])"
   ]
  },
  {
   "cell_type": "code",
   "execution_count": 45,
   "id": "9ef6291c-046a-420a-9b75-5d2ae75f9e91",
   "metadata": {},
   "outputs": [
    {
     "name": "stdout",
     "output_type": "stream",
     "text": [
      "['Karen', 'Jim']\n"
     ]
    }
   ],
   "source": [
    "friends = [\"Kevin\", \"Karen\", \"Jim\", \"Oscar\", \"Toby\"]\n",
    "print(friends[1:3])"
   ]
  },
  {
   "cell_type": "code",
   "execution_count": 47,
   "id": "58d5781b-1cd4-4b5d-ae63-c1681b2946a9",
   "metadata": {},
   "outputs": [
    {
     "name": "stdout",
     "output_type": "stream",
     "text": [
      "['Karen', 'Jim', 'Oscar', 'Toby']\n"
     ]
    }
   ],
   "source": [
    "friends = [\"Kevin\", \"Karen\", \"Jim\", \"Oscar\", \"Toby\"]\n",
    "print(friends[1:])"
   ]
  },
  {
   "cell_type": "code",
   "execution_count": 51,
   "id": "f2b56245-3f69-4be9-9f4b-853c7c58393c",
   "metadata": {},
   "outputs": [
    {
     "name": "stdout",
     "output_type": "stream",
     "text": [
      "['Mike', 'Jim', 'Oscar', 'Toby']\n"
     ]
    }
   ],
   "source": [
    "## Modify\n",
    "friends = [\"Kevin\", \"Karen\", \"Jim\", \"Oscar\", \"Toby\"]\n",
    "friends[1] = \"Mike\"\n",
    "print(friends[1:])"
   ]
  },
  {
   "cell_type": "markdown",
   "id": "68282e6f-65b3-41f7-bad8-dc3f8cdfcf72",
   "metadata": {},
   "source": [
    "### List Functions"
   ]
  },
  {
   "cell_type": "code",
   "execution_count": 56,
   "id": "fe153d2a-e2b5-46f2-b222-57101932ac6c",
   "metadata": {},
   "outputs": [
    {
     "name": "stdout",
     "output_type": "stream",
     "text": [
      "['Kevin', 'Karen', 'Jim', 'Oscar', 'Toby']\n"
     ]
    }
   ],
   "source": [
    "lucky_numbers = [4, 8, 15, 16, 23, 42]\n",
    "friends = [\"Kevin\", \"Karen\", \"Jim\", \"Oscar\", \"Toby\"]\n",
    "print(friends) "
   ]
  },
  {
   "cell_type": "code",
   "execution_count": 60,
   "id": "2a9d3048-3777-4678-8917-a41b6ce33cb2",
   "metadata": {},
   "outputs": [
    {
     "name": "stdout",
     "output_type": "stream",
     "text": [
      "['Kevin', 'Karen', 'Jim', 'Oscar', 'Toby', 4, 8, 15, 16, 23, 42]\n"
     ]
    }
   ],
   "source": [
    "lucky_numbers = [4, 8, 15, 16, 23, 42]\n",
    "friends = [\"Kevin\", \"Karen\", \"Jim\", \"Oscar\", \"Toby\"] \n",
    "## extend function(appending one list with another)\n",
    "friends.extend(lucky_numbers)\n",
    "print(friends) "
   ]
  },
  {
   "cell_type": "code",
   "execution_count": 62,
   "id": "7b947944-9344-450e-b886-230cfe78433c",
   "metadata": {},
   "outputs": [
    {
     "name": "stdout",
     "output_type": "stream",
     "text": [
      "['Kevin', 'Karen', 'Jim', 'Oscar', 'Toby', 'Creed']\n"
     ]
    }
   ],
   "source": [
    "lucky_numbers = [4, 8, 15, 16, 23, 42]\n",
    "friends = [\"Kevin\", \"Karen\", \"Jim\", \"Oscar\", \"Toby\"]\n",
    "friends.append(\"Creed\")\n",
    "print(friends)"
   ]
  },
  {
   "cell_type": "code",
   "execution_count": 64,
   "id": "ddecbe8d-e778-4d8f-bd10-79b0956a5afe",
   "metadata": {},
   "outputs": [
    {
     "name": "stdout",
     "output_type": "stream",
     "text": [
      "['Kevin', 'Kelly', 'Karen', 'Jim', 'Oscar', 'Toby']\n"
     ]
    }
   ],
   "source": [
    "lucky_numbers = [4, 8, 15, 16, 23, 42]\n",
    "friends = [\"Kevin\", \"Karen\", \"Jim\", \"Oscar\", \"Toby\"]\n",
    "friends.insert(1, \"Kelly\")\n",
    "print(friends)"
   ]
  },
  {
   "cell_type": "code",
   "execution_count": 66,
   "id": "65aa5738-de94-4107-a5f9-8312d6ccbb47",
   "metadata": {},
   "outputs": [
    {
     "name": "stdout",
     "output_type": "stream",
     "text": [
      "['Kevin', 'Karen', 'Oscar', 'Toby']\n"
     ]
    }
   ],
   "source": [
    "lucky_numbers = [4, 8, 15, 16, 23, 42]\n",
    "friends = [\"Kevin\", \"Karen\", \"Jim\", \"Oscar\", \"Toby\"]\n",
    "friends.remove(\"Jim\")\n",
    "print(friends)"
   ]
  },
  {
   "cell_type": "code",
   "execution_count": 68,
   "id": "6481a24c-ce75-40ba-9165-f17805b7910e",
   "metadata": {},
   "outputs": [
    {
     "name": "stdout",
     "output_type": "stream",
     "text": [
      "[]\n"
     ]
    }
   ],
   "source": [
    "lucky_numbers = [4, 8, 15, 16, 23, 42]\n",
    "friends = [\"Kevin\", \"Karen\", \"Jim\", \"Oscar\", \"Toby\"]\n",
    "friends.clear()\n",
    "print(friends)"
   ]
  },
  {
   "cell_type": "code",
   "execution_count": 70,
   "id": "427ba4f6-1f7d-4827-81ef-f7d5dd033054",
   "metadata": {},
   "outputs": [
    {
     "name": "stdout",
     "output_type": "stream",
     "text": [
      "['Kevin', 'Karen', 'Jim', 'Oscar']\n"
     ]
    }
   ],
   "source": [
    "lucky_numbers = [4, 8, 15, 16, 23, 42]\n",
    "friends = [\"Kevin\", \"Karen\", \"Jim\", \"Oscar\", \"Toby\"]\n",
    "friends.pop()\n",
    "print(friends)"
   ]
  },
  {
   "cell_type": "code",
   "execution_count": 72,
   "id": "6cc08e2a-3b72-4338-9e3a-aaef43ba802f",
   "metadata": {},
   "outputs": [
    {
     "name": "stdout",
     "output_type": "stream",
     "text": [
      "0\n"
     ]
    }
   ],
   "source": [
    "lucky_numbers = [4, 8, 15, 16, 23, 42]\n",
    "friends = [\"Kevin\", \"Karen\", \"Jim\", \"Oscar\", \"Toby\"]\n",
    "print(friends.index(\"Kevin\"))"
   ]
  },
  {
   "cell_type": "code",
   "execution_count": 74,
   "id": "29087aa8-6e0d-4dba-b424-b57fecec079a",
   "metadata": {},
   "outputs": [
    {
     "name": "stdout",
     "output_type": "stream",
     "text": [
      "3\n"
     ]
    }
   ],
   "source": [
    "lucky_numbers = [4, 8, 15, 16, 23, 42]\n",
    "friends = [\"Kevin\", \"Karen\", \"Jim\", \"Oscar\", \"Toby\"]\n",
    "print(friends.index(\"Oscar\"))"
   ]
  },
  {
   "cell_type": "code",
   "execution_count": 76,
   "id": "2322b96b-63a9-463a-a560-4e50e21556b2",
   "metadata": {},
   "outputs": [
    {
     "ename": "ValueError",
     "evalue": "'Mike' is not in list",
     "output_type": "error",
     "traceback": [
      "\u001b[1;31m---------------------------------------------------------------------------\u001b[0m",
      "\u001b[1;31mValueError\u001b[0m                                Traceback (most recent call last)",
      "Cell \u001b[1;32mIn[76], line 3\u001b[0m\n\u001b[0;32m      1\u001b[0m lucky_numbers \u001b[38;5;241m=\u001b[39m [\u001b[38;5;241m4\u001b[39m, \u001b[38;5;241m8\u001b[39m, \u001b[38;5;241m15\u001b[39m, \u001b[38;5;241m16\u001b[39m, \u001b[38;5;241m23\u001b[39m, \u001b[38;5;241m42\u001b[39m]\n\u001b[0;32m      2\u001b[0m friends \u001b[38;5;241m=\u001b[39m [\u001b[38;5;124m\"\u001b[39m\u001b[38;5;124mKevin\u001b[39m\u001b[38;5;124m\"\u001b[39m, \u001b[38;5;124m\"\u001b[39m\u001b[38;5;124mKaren\u001b[39m\u001b[38;5;124m\"\u001b[39m, \u001b[38;5;124m\"\u001b[39m\u001b[38;5;124mJim\u001b[39m\u001b[38;5;124m\"\u001b[39m, \u001b[38;5;124m\"\u001b[39m\u001b[38;5;124mOscar\u001b[39m\u001b[38;5;124m\"\u001b[39m, \u001b[38;5;124m\"\u001b[39m\u001b[38;5;124mToby\u001b[39m\u001b[38;5;124m\"\u001b[39m]\n\u001b[1;32m----> 3\u001b[0m \u001b[38;5;28mprint\u001b[39m(friends\u001b[38;5;241m.\u001b[39mindex(\u001b[38;5;124m\"\u001b[39m\u001b[38;5;124mMike\u001b[39m\u001b[38;5;124m\"\u001b[39m))\n",
      "\u001b[1;31mValueError\u001b[0m: 'Mike' is not in list"
     ]
    }
   ],
   "source": [
    "lucky_numbers = [4, 8, 15, 16, 23, 42]\n",
    "friends = [\"Kevin\", \"Karen\", \"Jim\", \"Oscar\", \"Toby\"]\n",
    "print(friends.index(\"Mike\"))"
   ]
  },
  {
   "cell_type": "code",
   "execution_count": 78,
   "id": "51b42600-bd64-427a-9dc7-d90b2f2ddabf",
   "metadata": {},
   "outputs": [
    {
     "name": "stdout",
     "output_type": "stream",
     "text": [
      "2\n"
     ]
    }
   ],
   "source": [
    "lucky_numbers = [4, 8, 15, 16, 23, 42]\n",
    "friends = [\"Kevin\", \"Karen\", \"Jim\", \"Jim\", \"Oscar\", \"Toby\"]\n",
    "print(friends.count(\"Jim\"))"
   ]
  },
  {
   "cell_type": "code",
   "execution_count": 80,
   "id": "eb806e2d-2cac-4bdb-9773-98662bcf7944",
   "metadata": {},
   "outputs": [
    {
     "name": "stdout",
     "output_type": "stream",
     "text": [
      "['Jim', 'Jim', 'Karen', 'Kevin', 'Oscar', 'Toby']\n"
     ]
    }
   ],
   "source": [
    "lucky_numbers = [4, 8, 15, 16, 23, 42]\n",
    "friends = [\"Kevin\", \"Karen\", \"Jim\", \"Jim\", \"Oscar\", \"Toby\"]\n",
    "friends.sort()\n",
    "print(friends)"
   ]
  },
  {
   "cell_type": "code",
   "execution_count": 82,
   "id": "595af81d-227e-4048-acd4-8c7f2af31432",
   "metadata": {},
   "outputs": [
    {
     "name": "stdout",
     "output_type": "stream",
     "text": [
      "[4, 8, 15, 16, 23, 42]\n"
     ]
    }
   ],
   "source": [
    "lucky_numbers = [42, 4, 8, 15, 16, 23]\n",
    "friends = [\"Kevin\", \"Karen\", \"Jim\", \"Jim\", \"Oscar\", \"Toby\"]\n",
    "lucky_numbers.sort()\n",
    "print(lucky_numbers)"
   ]
  },
  {
   "cell_type": "code",
   "execution_count": 84,
   "id": "9a044aeb-b84e-4d7c-b4e2-9059d0366d9d",
   "metadata": {},
   "outputs": [
    {
     "name": "stdout",
     "output_type": "stream",
     "text": [
      "['Kevin', 'Karen', 'Jim', 'Jim', 'Oscar', 'Toby']\n"
     ]
    }
   ],
   "source": [
    "lucky_numbers = [42, 4, 8, 15, 16, 23]\n",
    "friends = [\"Kevin\", \"Karen\", \"Jim\", \"Jim\", \"Oscar\", \"Toby\"]\n",
    "lucky_numbers.sort()\n",
    "print(friends)"
   ]
  },
  {
   "cell_type": "code",
   "execution_count": 86,
   "id": "17b6106c-74c6-4b96-8f78-fe234b6df652",
   "metadata": {},
   "outputs": [
    {
     "name": "stdout",
     "output_type": "stream",
     "text": [
      "[23, 16, 15, 8, 4, 42]\n"
     ]
    }
   ],
   "source": [
    "lucky_numbers = [42, 4, 8, 15, 16, 23]\n",
    "friends = [\"Kevin\", \"Karen\", \"Jim\", \"Jim\", \"Oscar\", \"Toby\"]\n",
    "lucky_numbers.reverse()\n",
    "print(lucky_numbers)"
   ]
  },
  {
   "cell_type": "code",
   "execution_count": 88,
   "id": "6f801519-774c-4fba-99bf-43b751d4a8e7",
   "metadata": {},
   "outputs": [
    {
     "name": "stdout",
     "output_type": "stream",
     "text": [
      "['Kevin', 'Karen', 'Jim', 'Jim', 'Oscar', 'Toby']\n"
     ]
    }
   ],
   "source": [
    "lucky_numbers = [42, 4, 8, 15, 16, 23]\n",
    "friends = [\"Kevin\", \"Karen\", \"Jim\", \"Jim\", \"Oscar\", \"Toby\"]\n",
    "friends2 = friends.copy()\n",
    "\n",
    "print(friends2)"
   ]
  },
  {
   "cell_type": "markdown",
   "id": "f1ecc266-58a5-4625-a9b9-f7044a465985",
   "metadata": {},
   "source": [
    "### Tuples"
   ]
  },
  {
   "cell_type": "code",
   "execution_count": 91,
   "id": "caab3b8c-a6df-4f20-9743-adb1d32eff3d",
   "metadata": {},
   "outputs": [
    {
     "name": "stdout",
     "output_type": "stream",
     "text": [
      "4\n"
     ]
    }
   ],
   "source": [
    "coordinates = (4, 5) \n",
    "print(coordinates[0])"
   ]
  },
  {
   "cell_type": "code",
   "execution_count": 93,
   "id": "36eab804-dabf-405c-ade8-32acc940ce53",
   "metadata": {},
   "outputs": [
    {
     "name": "stdout",
     "output_type": "stream",
     "text": [
      "5\n"
     ]
    }
   ],
   "source": [
    "coordinates = (4, 5) \n",
    "print(coordinates[1])"
   ]
  },
  {
   "cell_type": "code",
   "execution_count": 95,
   "id": "b2016cf1-6375-4ba1-9889-d374e7597f03",
   "metadata": {},
   "outputs": [
    {
     "ename": "TypeError",
     "evalue": "'tuple' object does not support item assignment",
     "output_type": "error",
     "traceback": [
      "\u001b[1;31m---------------------------------------------------------------------------\u001b[0m",
      "\u001b[1;31mTypeError\u001b[0m                                 Traceback (most recent call last)",
      "Cell \u001b[1;32mIn[95], line 2\u001b[0m\n\u001b[0;32m      1\u001b[0m coordinates \u001b[38;5;241m=\u001b[39m (\u001b[38;5;241m4\u001b[39m, \u001b[38;5;241m5\u001b[39m)\n\u001b[1;32m----> 2\u001b[0m coordinates[\u001b[38;5;241m1\u001b[39m] \u001b[38;5;241m=\u001b[39m \u001b[38;5;241m10\u001b[39m\n\u001b[0;32m      3\u001b[0m \u001b[38;5;28mprint\u001b[39m(coordinates[\u001b[38;5;241m1\u001b[39m])\n",
      "\u001b[1;31mTypeError\u001b[0m: 'tuple' object does not support item assignment"
     ]
    }
   ],
   "source": [
    "coordinates = (4, 5)\n",
    "coordinates[1] = 10\n",
    "print(coordinates[1]) ## we will get an error coz we cannot modify it. but in list we can do that"
   ]
  },
  {
   "cell_type": "code",
   "execution_count": 99,
   "id": "c294dfba-1fb5-4204-a1be-28af9cd3510b",
   "metadata": {},
   "outputs": [
    {
     "name": "stdout",
     "output_type": "stream",
     "text": [
      "[(4, 5), (8, 10), (80, 34)]\n"
     ]
    }
   ],
   "source": [
    "coordinates = [(4, 5), (6, 7), (80, 34)]\n",
    "coordinates[1] = (8,10)\n",
    "print(coordinates)"
   ]
  },
  {
   "cell_type": "code",
   "execution_count": null,
   "id": "863b9ce7-16aa-4ed6-80c2-a4f1865ccbc6",
   "metadata": {},
   "outputs": [],
   "source": []
  }
 ],
 "metadata": {
  "kernelspec": {
   "display_name": "Python 3 (ipykernel)",
   "language": "python",
   "name": "python3"
  },
  "language_info": {
   "codemirror_mode": {
    "name": "ipython",
    "version": 3
   },
   "file_extension": ".py",
   "mimetype": "text/x-python",
   "name": "python",
   "nbconvert_exporter": "python",
   "pygments_lexer": "ipython3",
   "version": "3.12.4"
  }
 },
 "nbformat": 4,
 "nbformat_minor": 5
}
